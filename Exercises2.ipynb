{
 "cells": [
  {
   "cell_type": "markdown",
   "metadata": {},
   "source": [
    "# Exercises for Session 2"
   ]
  },
  {
   "cell_type": "markdown",
   "metadata": {},
   "source": [
    "## Exercise (1)"
   ]
  },
  {
   "cell_type": "code",
   "execution_count": 1,
   "metadata": {},
   "outputs": [],
   "source": [
    "from math import sqrt, cosh, sinh"
   ]
  },
  {
   "cell_type": "code",
   "execution_count": 2,
   "metadata": {},
   "outputs": [],
   "source": [
    "favnums = [1, 3.1415, sqrt(7), 6, 7.5]"
   ]
  },
  {
   "cell_type": "code",
   "execution_count": 3,
   "metadata": {},
   "outputs": [
    {
     "name": "stdout",
     "output_type": "stream",
     "text": [
      "[True, True, True, True, True]\n"
     ]
    }
   ],
   "source": [
    "print([(cosh(i)**2 - sinh(i)**2 - 1) < 1e-6 for i in favnums])"
   ]
  },
  {
   "cell_type": "markdown",
   "metadata": {},
   "source": [
    "## Exercise (2)"
   ]
  },
  {
   "cell_type": "code",
   "execution_count": 4,
   "metadata": {},
   "outputs": [],
   "source": [
    "def is_divisible(x, n):\n",
    "    \"\"\" Find the indices of x where the element is exactly divisible by n.\n",
    "\n",
    "    Arguments:\n",
    "    x - list of numbers to test\n",
    "    n - single divisor\n",
    "\n",
    "    Returns a list of the indices of x for which the value of the element is\n",
    "    divisible by n (to a precision of 1e-6 in the case of floats).\n",
    "\n",
    "    Example:\n",
    "    >>> is_divisible([3, 1, 3.1415, 6, 7.5], 3)\n",
    "    [0, 3]\n",
    "    \n",
    "    \"\"\"\n",
    "    \n",
    "    r = []\n",
    "    small = 1e-6\n",
    "    for i, m in enumerate(x):\n",
    "        if m % n < small:\n",
    "            r.append(i)\n",
    "    return r"
   ]
  },
  {
   "cell_type": "code",
   "execution_count": 5,
   "metadata": {},
   "outputs": [
    {
     "name": "stdout",
     "output_type": "stream",
     "text": [
      "Value 3 (at index 0) is divisible by 3\n",
      "Value 6 (at index 3) is divisible by 3\n"
     ]
    }
   ],
   "source": [
    "test_numbers = [3, 1, 3.1415, 6, 7.5]\n",
    "divisor = 3\n",
    "idx = is_divisible(test_numbers, divisor)\n",
    "for i in idx:\n",
    "    print(f'Value {test_numbers[i]} (at index {i}) is divisible by {divisor}')"
   ]
  },
  {
   "cell_type": "code",
   "execution_count": 6,
   "metadata": {},
   "outputs": [],
   "source": [
    "y = 'number'"
   ]
  },
  {
   "cell_type": "code",
   "execution_count": 7,
   "metadata": {},
   "outputs": [],
   "source": [
    "x = 1.231234567890"
   ]
  },
  {
   "cell_type": "code",
   "execution_count": 8,
   "metadata": {},
   "outputs": [
    {
     "name": "stdout",
     "output_type": "stream",
     "text": [
      "My number is 1.23123456789\n"
     ]
    }
   ],
   "source": [
    "print('My', y, 'is', x)"
   ]
  },
  {
   "cell_type": "code",
   "execution_count": 9,
   "metadata": {},
   "outputs": [
    {
     "name": "stdout",
     "output_type": "stream",
     "text": [
      "My number is 1.23123456789\n"
     ]
    }
   ],
   "source": [
    "print('My ' + str(y) +' is ' + str(x))"
   ]
  },
  {
   "cell_type": "code",
   "execution_count": 10,
   "metadata": {},
   "outputs": [],
   "source": [
    "template = 'My {y} is {x}'"
   ]
  },
  {
   "cell_type": "code",
   "execution_count": 11,
   "metadata": {},
   "outputs": [
    {
     "name": "stdout",
     "output_type": "stream",
     "text": [
      "My number is 1.23123456789\n"
     ]
    }
   ],
   "source": [
    "print(f'My {y} is {x}')"
   ]
  },
  {
   "cell_type": "code",
   "execution_count": 12,
   "metadata": {},
   "outputs": [
    {
     "name": "stdout",
     "output_type": "stream",
     "text": [
      "a\tb\n"
     ]
    }
   ],
   "source": [
    "print(u'a\\tb')"
   ]
  },
  {
   "cell_type": "code",
   "execution_count": 13,
   "metadata": {},
   "outputs": [
    {
     "name": "stdout",
     "output_type": "stream",
     "text": [
      "Help on function is_divisible in module __main__:\n",
      "\n",
      "is_divisible(x, n)\n",
      "    Find the indices of x where the element is exactly divisible by n.\n",
      "    \n",
      "    Arguments:\n",
      "    x - list of numbers to test\n",
      "    n - single divisor\n",
      "    \n",
      "    Returns a list of the indices of x for which the value of the element is\n",
      "    divisible by n (to a precision of 1e-6 in the case of floats).\n",
      "    \n",
      "    Example:\n",
      "    >>> is_divisible([3, 1, 3.1415, 6, 7.5], 3)\n",
      "    [0, 3]\n",
      "\n"
     ]
    }
   ],
   "source": [
    "help(is_divisible)"
   ]
  },
  {
   "cell_type": "markdown",
   "metadata": {},
   "source": [
    "## Exercise (3)"
   ]
  },
  {
   "cell_type": "code",
   "execution_count": 14,
   "metadata": {},
   "outputs": [],
   "source": [
    "# produce example file\n",
    "with open('ex2_3.txt', 'w') as f:\n",
    "    f.write(\n",
    "\"\"\"1 2 3 4 5 6 7 8 9 10\n",
    "1 4 9 16 25 36 49 64 81 100\n",
    "1 8 27 64 125 216 343 512 729 1000\n",
    "1 16 81 256 625 1296 2401 4096 6561 10000\n",
    "\"\"\")"
   ]
  },
  {
   "cell_type": "code",
   "execution_count": 15,
   "metadata": {},
   "outputs": [],
   "source": [
    "def is_divisible_from_file(fname='ex2_3.txt', n=8):\n",
    "    \"\"\" Find values in a file which are exactly divisible by n.\n",
    "\n",
    "    Arguments:\n",
    "    x - filename: file should contain rows of numbers\n",
    "    n - single divisor\n",
    "\n",
    "    Returns a list containing, for each line in the specified file,\n",
    "    lists of the zero-indexed column numbers for which the value is\n",
    "    divisible by n (to a precision of 1e-6).\n",
    "\n",
    "    Example:\n",
    "    >>> is_divisible_from_file('ex2_3.txt', 8)\n",
    "    [[7], [3, 7], [1, 3, 5, 7, 9], [1, 3, 5, 7, 9]]\n",
    "\n",
    "    \"\"\"\n",
    "\n",
    "    r = []\n",
    "    with open(fname) as f:\n",
    "        for l in f:\n",
    "            x = [float(j) for j in l.split()]\n",
    "            y = []\n",
    "            small = 1e-6\n",
    "            for i, m in enumerate(x):\n",
    "                if m % n < small:\n",
    "                    y.append(i)\n",
    "            r.append(y)\n",
    "    return r"
   ]
  },
  {
   "cell_type": "code",
   "execution_count": 16,
   "metadata": {},
   "outputs": [
    {
     "name": "stdout",
     "output_type": "stream",
     "text": [
      "The values at the following indices are divisible by 8:\n",
      "Line 0: [7]\n",
      "Line 1: [3, 7]\n",
      "Line 2: [1, 3, 5, 7, 9]\n",
      "Line 3: [1, 3, 5, 7, 9]\n"
     ]
    }
   ],
   "source": [
    "divisor = 8\n",
    "idxlist = is_divisible_from_file('ex2_3.txt', divisor)\n",
    "print('The values at the following indices are divisible by {}:'.format(divisor))\n",
    "for lineno, idx in enumerate(idxlist):\n",
    "    print('Line {}: {}'.format(lineno, idx))"
   ]
  },
  {
   "cell_type": "markdown",
   "metadata": {},
   "source": [
    "## Exercise (4)"
   ]
  },
  {
   "cell_type": "code",
   "execution_count": 17,
   "metadata": {},
   "outputs": [],
   "source": [
    "class divtest(object):\n",
    "    \"\"\" Create an object for testing which elements of a list are exactly divisible by n.\n",
    "\n",
    "    Example:\n",
    "        >>> div3tester = divtest(3)\n",
    "        >>> div3tester.test([3, 1, 3.1415, 6, 7.5], 3)\n",
    "        [0, 3]\n",
    "    \n",
    "    \"\"\"\n",
    "    \n",
    "    def __init__(self, n):\n",
    "        \"\"\"Initialise with a divisor of n\"\"\"\n",
    "        self.n = n\n",
    "\n",
    "    def test(self, x):\n",
    "        \"\"\"Performs the divisor test\n",
    "        \n",
    "        Returns a list of the indices of x for which the value of the element is\n",
    "        divisible by n (to a precision of 1e-6 in the case of floats).\n",
    "        \"\"\"\n",
    "        r = []\n",
    "        small = 1e-6\n",
    "        for i, m in enumerate(x):\n",
    "            if m % self.n < small:\n",
    "                r.append(i)\n",
    "        return r"
   ]
  },
  {
   "cell_type": "code",
   "execution_count": 18,
   "metadata": {},
   "outputs": [
    {
     "name": "stdout",
     "output_type": "stream",
     "text": [
      "Value 1 (at index 0) is divisible by 3\n",
      "Value 6 (at index 3) is divisible by 3\n"
     ]
    }
   ],
   "source": [
    "divisor = 3\n",
    "div3tester = divtest(divisor)\n",
    "idx = div3tester.test(test_numbers)\n",
    "for i in idx:\n",
    "    print('Value {} (at index {}) is divisible by {}'.format(favnums[i], i, divisor))"
   ]
  },
  {
   "cell_type": "code",
   "execution_count": 19,
   "metadata": {},
   "outputs": [
    {
     "name": "stdout",
     "output_type": "stream",
     "text": [
      "Help on class divtest in module __main__:\n",
      "\n",
      "class divtest(builtins.object)\n",
      " |  divtest(n)\n",
      " |  \n",
      " |  Create an object for testing which elements of a list are exactly divisible by n.\n",
      " |  \n",
      " |  Example:\n",
      " |      >>> div3tester = divtest(3)\n",
      " |      >>> div3tester.test([3, 1, 3.1415, 6, 7.5], 3)\n",
      " |      [0, 3]\n",
      " |  \n",
      " |  Methods defined here:\n",
      " |  \n",
      " |  __init__(self, n)\n",
      " |      Initialise with a divisor of n\n",
      " |  \n",
      " |  test(self, x)\n",
      " |      Performs the divisor test\n",
      " |      \n",
      " |      Returns a list of the indices of x for which the value of the element is\n",
      " |      divisible by n (to a precision of 1e-6 in the case of floats).\n",
      " |  \n",
      " |  ----------------------------------------------------------------------\n",
      " |  Data descriptors defined here:\n",
      " |  \n",
      " |  __dict__\n",
      " |      dictionary for instance variables (if defined)\n",
      " |  \n",
      " |  __weakref__\n",
      " |      list of weak references to the object (if defined)\n",
      "\n"
     ]
    }
   ],
   "source": [
    "help(divtest)"
   ]
  }
 ],
 "metadata": {
  "hide_input": false,
  "kernelspec": {
   "display_name": "Python 3",
   "language": "python",
   "name": "python3"
  },
  "language_info": {
   "codemirror_mode": {
    "name": "ipython",
    "version": 3
   },
   "file_extension": ".py",
   "mimetype": "text/x-python",
   "name": "python",
   "nbconvert_exporter": "python",
   "pygments_lexer": "ipython3",
   "version": "3.7.4"
  },
  "latex_envs": {
   "LaTeX_envs_menu_present": true,
   "autocomplete": true,
   "bibliofile": "biblio.bib",
   "cite_by": "apalike",
   "current_citInitial": 1,
   "eqLabelWithNumbers": true,
   "eqNumInitial": 1,
   "hotkeys": {
    "equation": "Ctrl-E",
    "itemize": "Ctrl-I"
   },
   "labels_anchors": false,
   "latex_user_defs": false,
   "report_style_numbering": false,
   "user_envs_cfg": false
  }
 },
 "nbformat": 4,
 "nbformat_minor": 1
}
